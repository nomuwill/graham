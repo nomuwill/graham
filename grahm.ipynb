{
 "cells": [
  {
   "cell_type": "markdown",
   "metadata": {},
   "source": [
    "## Project Graham\n",
    " \n",
    " [Give an explanation]"
   ]
  },
  {
   "cell_type": "code",
   "execution_count": 2,
   "metadata": {},
   "outputs": [],
   "source": [
    "# Import modules\n",
    "import numpy as np\n",
    "import matplotlib.pyplot as plt\n",
    "# import snntorch as snn   "
   ]
  },
  {
   "cell_type": "markdown",
   "metadata": {},
   "source": [
    "### Electrophysiology Background\n"
   ]
  },
  {
   "cell_type": "code",
   "execution_count": null,
   "metadata": {},
   "outputs": [
    {
     "name": "stdout",
     "output_type": "stream",
     "text": [
      "['train', 'neuron_data', 'redundant_pairs', 'fs']\n",
      "neuron_data's type is: <class 'numpy.ndarray'>\n"
     ]
    }
   ],
   "source": [
    "# Load in the curated EPhys Data as npz object \n",
    "fname = \"data.npz\"\n",
    "data = np.load(fname, allow_pickle=True)\n",
    "\n",
    "print(data.files)\n",
    "print(f\"neuron_data's type is: {type(data['neuron_data'])}\")\n",
    "# neuron_data = data[\"neuron_data\"].item()\n",
    "\n",
    "# Data\n",
    "  # train: {neuron, [associated spike times]}\n",
    "  # neuron_data:\n",
    "  # redundant_pairs: literally that\n",
    "  # fs: sampling rate\n",
    "\n",
    "# Get the stuff\n",
    "# neuron_data = data['neuron_data'].item()\n",
    "# fs = data['fs'] #fs = frequency sample\n",
    "\n",
    "# # For each spike time, normalize by sampling freq to seconds\n",
    "# spike_times = data['train'].item()\n",
    "# train = [times / fs for neuron_ID, times in spike_times.items()]\n",
    "# We now have a list of neurons, each with associated spike times"
   ]
  },
  {
   "cell_type": "code",
   "execution_count": 41,
   "metadata": {},
   "outputs": [
    {
     "name": "stdout",
     "output_type": "stream",
     "text": [
      "data.npz\n"
     ]
    }
   ],
   "source": [
    "print(fname)"
   ]
  },
  {
   "cell_type": "code",
   "execution_count": null,
   "metadata": {},
   "outputs": [],
   "source": [
    "def get_population_fr(trains: list, bin_size=0.1, w=5):\n",
    "\n",
    "    ''' Bin population frequencies by time '''\n",
    "\n",
    "    trains = np.hstack(trains)\n",
    "    rec_length = np.max(trains)\n",
    "    bin_num = int(rec_length// bin_size) + 1\n",
    "    bins = np.linspace(0, rec_length, bin_num)\n",
    "    fr = np.histogram(trains, bins)[0] / bin_size\n",
    "    fr_avg = np.convolve(fr, np.ones(w), 'same') / w\n",
    "    return bins[1:], fr_avg\n",
    "\n",
    "# Plot Setup\n",
    "fig, axs = plt.subplots(1, 1, figsize=(16, 6))\n",
    "axs1 = axs.twinx()\n",
    "\n",
    "# Plot population\n",
    "bins, fr_avg = get_population_fr(trains=train)\n",
    "axs1.plot(bins, fr_avg, color='r', linewidth=3, alpha=0.5)\n",
    "\n",
    "# Plot individual neurons\n",
    "y = 0\n",
    "for vv in train:\n",
    "    axs.scatter(vv, [y]*len(vv), marker=\"|\", c='k', s=4, alpha=0.7)\n",
    "    y += 1\n",
    "\n",
    "# Individual neuron plot\n",
    "axs.set_title(\"Population Activity\", fontsize=16)\n",
    "axs.set_xlabel(\"Time (s)\", fontsize=14)\n",
    "axs.set_ylabel(\"Neuron Number\", fontsize=14)\n",
    "axs.xaxis.set_tick_params(labelsize=14)\n",
    "axs.yaxis.set_tick_params(labelsize=14)\n",
    "\n",
    "# Population plot\n",
    "axs1.set_ylabel(\"Population Firing Rate (Hz)\", fontsize=16, color='r')\n",
    "axs1.set_xlabel(\"Time (s)\", fontsize=14)\n",
    "axs1.spines['right'].set_color('r')\n",
    "axs1.spines['right'].set_linewidth(2)\n",
    "axs1.tick_params(axis='y', colors='r')\n",
    "axs1.yaxis.set_tick_params(labelsize=14)"
   ]
  },
  {
   "cell_type": "code",
   "execution_count": null,
   "metadata": {},
   "outputs": [],
   "source": [
    "# Now that we know the plan, let's get the Spiking Neural Network going!"
   ]
  }
 ],
 "metadata": {
  "kernelspec": {
   "display_name": "graham",
   "language": "python",
   "name": "python3"
  },
  "language_info": {
   "codemirror_mode": {
    "name": "ipython",
    "version": 3
   },
   "file_extension": ".py",
   "mimetype": "text/x-python",
   "name": "python",
   "nbconvert_exporter": "python",
   "pygments_lexer": "ipython3",
   "version": "3.12.4"
  }
 },
 "nbformat": 4,
 "nbformat_minor": 2
}
