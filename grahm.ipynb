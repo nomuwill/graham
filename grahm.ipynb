{
 "cells": [
  {
   "cell_type": "markdown",
   "metadata": {},
   "source": [
    "## Project Graham\n",
    "\n",
    "Project named in honor of the late Graham Chapman who portrays Brian, in Monty Python’s Life Of Brian (1979), for which the brain simulation program Brian2 is named after, which is, in itself, a reference to Python being named after Monty Python. I enjoy run-on sentences."
   ]
  }
 ],
 "metadata": {
  "language_info": {
   "name": "python"
  }
 },
 "nbformat": 4,
 "nbformat_minor": 2
}
